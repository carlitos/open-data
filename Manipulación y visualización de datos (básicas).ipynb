{
 "cells": [
  {
   "cell_type": "markdown",
   "metadata": {},
   "source": [
    "# Manipulación y visualización de datos (básicas)\n",
    "\n",
    "A lo largo de este Jupyter Notebook explicaré algunos básicos sobre manipulación y visualización de datos con Python. Los tópicos específicos a cubrir en este cuaderno interactivo son los siguientes:\n",
    "\n",
    "> - Formatos de datos\n",
    "> - Cargar una base de datos\n",
    "> - Extraer datos de una base\n",
    "> - Estadísticos descriptivos\n",
    "> - Visualizaciones básicas\n",
    "\n",
    "## Repaso rápido a formatos de datos...\n",
    "\n",
    "Puedes consultar la siguiente referencia: <https://5stardata.info/es/>\n",
    "\n",
    "\n",
    "## Visualizando archivos de excel o separados por comas\n"
   ]
  },
  {
   "cell_type": "markdown",
   "metadata": {},
   "source": [
    "## Cargando una base de datos\n",
    "\n",
    "Para cargar una base de datos, utilizaremos un paquete de Python que resulta muy útil y eficiente, llamado [Pandas](https://pandas.pydata.org). Dado que a los datos podemos encontrarlos en la misma ruta que este cuaderno interactivo, bastará sólo usar la función `.read_excel()` de Pandas."
   ]
  },
  {
   "cell_type": "code",
   "execution_count": 28,
   "metadata": {},
   "outputs": [],
   "source": [
    "import pandas\n",
    "\n",
    "nombre_de_archivo = 'distritos-locales-electorales.xlsx' \n",
    "dataframe = pandas.read_excel(nombre_de_archivo)"
   ]
  },
  {
   "cell_type": "markdown",
   "metadata": {},
   "source": [
    "Podemos imprimir toda la base de datos llamando a la variable `dataframe`, o acceder sólo al inicio (o final) de los datos con `.head()` (o `.tail()`)."
   ]
  },
  {
   "cell_type": "code",
   "execution_count": 30,
   "metadata": {},
   "outputs": [
    {
     "data": {
      "text/html": [
       "<div>\n",
       "<style scoped>\n",
       "    .dataframe tbody tr th:only-of-type {\n",
       "        vertical-align: middle;\n",
       "    }\n",
       "\n",
       "    .dataframe tbody tr th {\n",
       "        vertical-align: top;\n",
       "    }\n",
       "\n",
       "    .dataframe thead th {\n",
       "        text-align: right;\n",
       "    }\n",
       "</style>\n",
       "<table border=\"1\" class=\"dataframe\">\n",
       "  <thead>\n",
       "    <tr style=\"text-align: right;\">\n",
       "      <th></th>\n",
       "      <th>Seccion</th>\n",
       "      <th>ClaveMPIO</th>\n",
       "      <th>Municipio</th>\n",
       "      <th>Distrito Local</th>\n",
       "      <th>Cabecera Distrital</th>\n",
       "    </tr>\n",
       "  </thead>\n",
       "  <tbody>\n",
       "    <tr>\n",
       "      <td>0</td>\n",
       "      <td>1</td>\n",
       "      <td>1</td>\n",
       "      <td>Abasolo</td>\n",
       "      <td>18</td>\n",
       "      <td>Pénjamo</td>\n",
       "    </tr>\n",
       "    <tr>\n",
       "      <td>1</td>\n",
       "      <td>2</td>\n",
       "      <td>1</td>\n",
       "      <td>Abasolo</td>\n",
       "      <td>18</td>\n",
       "      <td>Pénjamo</td>\n",
       "    </tr>\n",
       "    <tr>\n",
       "      <td>2</td>\n",
       "      <td>3</td>\n",
       "      <td>1</td>\n",
       "      <td>Abasolo</td>\n",
       "      <td>18</td>\n",
       "      <td>Pénjamo</td>\n",
       "    </tr>\n",
       "    <tr>\n",
       "      <td>3</td>\n",
       "      <td>4</td>\n",
       "      <td>1</td>\n",
       "      <td>Abasolo</td>\n",
       "      <td>18</td>\n",
       "      <td>Pénjamo</td>\n",
       "    </tr>\n",
       "    <tr>\n",
       "      <td>4</td>\n",
       "      <td>5</td>\n",
       "      <td>1</td>\n",
       "      <td>Abasolo</td>\n",
       "      <td>18</td>\n",
       "      <td>Pénjamo</td>\n",
       "    </tr>\n",
       "  </tbody>\n",
       "</table>\n",
       "</div>"
      ],
      "text/plain": [
       "   Seccion  ClaveMPIO Municipio  Distrito Local Cabecera Distrital\n",
       "0        1          1   Abasolo              18            Pénjamo\n",
       "1        2          1   Abasolo              18            Pénjamo\n",
       "2        3          1   Abasolo              18            Pénjamo\n",
       "3        4          1   Abasolo              18            Pénjamo\n",
       "4        5          1   Abasolo              18            Pénjamo"
      ]
     },
     "execution_count": 30,
     "metadata": {},
     "output_type": "execute_result"
    }
   ],
   "source": [
    "dataframe.head()"
   ]
  },
  {
   "cell_type": "markdown",
   "metadata": {},
   "source": [
    "Tanto `.head()` como `.head()` de manera estándar retorna 5 elementos de la tabla de datos, sin embargo pueden recibir como argumento un número entero para devolver esa cantidad de elementos.\n",
    "\n",
    "#### Ejercicio:\n",
    "\n",
    "Haz que las funciones ya mecnionadas devuelvan una cantidad distinta de elementos."
   ]
  },
  {
   "cell_type": "code",
   "execution_count": 14,
   "metadata": {},
   "outputs": [
    {
     "data": {
      "text/html": [
       "<div>\n",
       "<style scoped>\n",
       "    .dataframe tbody tr th:only-of-type {\n",
       "        vertical-align: middle;\n",
       "    }\n",
       "\n",
       "    .dataframe tbody tr th {\n",
       "        vertical-align: top;\n",
       "    }\n",
       "\n",
       "    .dataframe thead th {\n",
       "        text-align: right;\n",
       "    }\n",
       "</style>\n",
       "<table border=\"1\" class=\"dataframe\">\n",
       "  <thead>\n",
       "    <tr style=\"text-align: right;\">\n",
       "      <th></th>\n",
       "      <th>Seccion</th>\n",
       "      <th>ClaveMPIO</th>\n",
       "      <th>Municipio</th>\n",
       "      <th>Distrito Local</th>\n",
       "      <th>Cabecera Distrital</th>\n",
       "    </tr>\n",
       "  </thead>\n",
       "  <tbody>\n",
       "    <tr>\n",
       "      <td>0</td>\n",
       "      <td>1</td>\n",
       "      <td>1</td>\n",
       "      <td>Abasolo</td>\n",
       "      <td>18</td>\n",
       "      <td>Pénjamo</td>\n",
       "    </tr>\n",
       "    <tr>\n",
       "      <td>1</td>\n",
       "      <td>2</td>\n",
       "      <td>1</td>\n",
       "      <td>Abasolo</td>\n",
       "      <td>18</td>\n",
       "      <td>Pénjamo</td>\n",
       "    </tr>\n",
       "    <tr>\n",
       "      <td>2</td>\n",
       "      <td>3</td>\n",
       "      <td>1</td>\n",
       "      <td>Abasolo</td>\n",
       "      <td>18</td>\n",
       "      <td>Pénjamo</td>\n",
       "    </tr>\n",
       "    <tr>\n",
       "      <td>3</td>\n",
       "      <td>4</td>\n",
       "      <td>1</td>\n",
       "      <td>Abasolo</td>\n",
       "      <td>18</td>\n",
       "      <td>Pénjamo</td>\n",
       "    </tr>\n",
       "    <tr>\n",
       "      <td>4</td>\n",
       "      <td>5</td>\n",
       "      <td>1</td>\n",
       "      <td>Abasolo</td>\n",
       "      <td>18</td>\n",
       "      <td>Pénjamo</td>\n",
       "    </tr>\n",
       "    <tr>\n",
       "      <td>5</td>\n",
       "      <td>6</td>\n",
       "      <td>1</td>\n",
       "      <td>Abasolo</td>\n",
       "      <td>18</td>\n",
       "      <td>Pénjamo</td>\n",
       "    </tr>\n",
       "    <tr>\n",
       "      <td>6</td>\n",
       "      <td>7</td>\n",
       "      <td>1</td>\n",
       "      <td>Abasolo</td>\n",
       "      <td>18</td>\n",
       "      <td>Pénjamo</td>\n",
       "    </tr>\n",
       "    <tr>\n",
       "      <td>7</td>\n",
       "      <td>8</td>\n",
       "      <td>1</td>\n",
       "      <td>Abasolo</td>\n",
       "      <td>18</td>\n",
       "      <td>Pénjamo</td>\n",
       "    </tr>\n",
       "    <tr>\n",
       "      <td>8</td>\n",
       "      <td>9</td>\n",
       "      <td>1</td>\n",
       "      <td>Abasolo</td>\n",
       "      <td>18</td>\n",
       "      <td>Pénjamo</td>\n",
       "    </tr>\n",
       "    <tr>\n",
       "      <td>9</td>\n",
       "      <td>10</td>\n",
       "      <td>1</td>\n",
       "      <td>Abasolo</td>\n",
       "      <td>18</td>\n",
       "      <td>Pénjamo</td>\n",
       "    </tr>\n",
       "  </tbody>\n",
       "</table>\n",
       "</div>"
      ],
      "text/plain": [
       "   Seccion  ClaveMPIO Municipio  Distrito Local Cabecera Distrital\n",
       "0        1          1   Abasolo              18            Pénjamo\n",
       "1        2          1   Abasolo              18            Pénjamo\n",
       "2        3          1   Abasolo              18            Pénjamo\n",
       "3        4          1   Abasolo              18            Pénjamo\n",
       "4        5          1   Abasolo              18            Pénjamo\n",
       "5        6          1   Abasolo              18            Pénjamo\n",
       "6        7          1   Abasolo              18            Pénjamo\n",
       "7        8          1   Abasolo              18            Pénjamo\n",
       "8        9          1   Abasolo              18            Pénjamo\n",
       "9       10          1   Abasolo              18            Pénjamo"
      ]
     },
     "execution_count": 14,
     "metadata": {},
     "output_type": "execute_result"
    }
   ],
   "source": [
    "# TODO.\n",
    "# Haz que del dataframe .head() devuelva los primeros 10 elementos\n"
   ]
  },
  {
   "cell_type": "code",
   "execution_count": 15,
   "metadata": {},
   "outputs": [
    {
     "data": {
      "text/html": [
       "<div>\n",
       "<style scoped>\n",
       "    .dataframe tbody tr th:only-of-type {\n",
       "        vertical-align: middle;\n",
       "    }\n",
       "\n",
       "    .dataframe tbody tr th {\n",
       "        vertical-align: top;\n",
       "    }\n",
       "\n",
       "    .dataframe thead th {\n",
       "        text-align: right;\n",
       "    }\n",
       "</style>\n",
       "<table border=\"1\" class=\"dataframe\">\n",
       "  <thead>\n",
       "    <tr style=\"text-align: right;\">\n",
       "      <th></th>\n",
       "      <th>Seccion</th>\n",
       "      <th>ClaveMPIO</th>\n",
       "      <th>Municipio</th>\n",
       "      <th>Distrito Local</th>\n",
       "      <th>Cabecera Distrital</th>\n",
       "    </tr>\n",
       "  </thead>\n",
       "  <tbody>\n",
       "    <tr>\n",
       "      <td>3139</td>\n",
       "      <td>3153</td>\n",
       "      <td>20</td>\n",
       "      <td>León</td>\n",
       "      <td>4</td>\n",
       "      <td>León</td>\n",
       "    </tr>\n",
       "    <tr>\n",
       "      <td>3140</td>\n",
       "      <td>3154</td>\n",
       "      <td>20</td>\n",
       "      <td>León</td>\n",
       "      <td>4</td>\n",
       "      <td>León</td>\n",
       "    </tr>\n",
       "  </tbody>\n",
       "</table>\n",
       "</div>"
      ],
      "text/plain": [
       "      Seccion  ClaveMPIO Municipio  Distrito Local Cabecera Distrital\n",
       "3139     3153         20      León               4               León\n",
       "3140     3154         20      León               4               León"
      ]
     },
     "execution_count": 15,
     "metadata": {},
     "output_type": "execute_result"
    }
   ],
   "source": [
    "# TODO.\n",
    "# Ahora haz que del dataframe .tail() devuelva los ultimos 2 elementos\n"
   ]
  },
  {
   "cell_type": "markdown",
   "metadata": {},
   "source": [
    "## Extraer datos de una base\n",
    "\n",
    "Para extraer las cabeceras de una tabla de datos, podemos convertir a lista una tabla misma:"
   ]
  },
  {
   "cell_type": "code",
   "execution_count": 49,
   "metadata": {},
   "outputs": [
    {
     "data": {
      "text/plain": [
       "['Seccion', 'ClaveMPIO', 'Municipio', 'Distrito Local', 'Cabecera Distrital']"
      ]
     },
     "execution_count": 49,
     "metadata": {},
     "output_type": "execute_result"
    }
   ],
   "source": [
    "cabeceras = list(dataframe)\n",
    "cabeceras"
   ]
  },
  {
   "cell_type": "markdown",
   "metadata": {},
   "source": [
    "Si quisiéramos extraer una columna completa de una tabla de datos, podemos utilizar la cabecera como sigue:"
   ]
  },
  {
   "cell_type": "code",
   "execution_count": 51,
   "metadata": {},
   "outputs": [
    {
     "data": {
      "text/html": [
       "<div>\n",
       "<style scoped>\n",
       "    .dataframe tbody tr th:only-of-type {\n",
       "        vertical-align: middle;\n",
       "    }\n",
       "\n",
       "    .dataframe tbody tr th {\n",
       "        vertical-align: top;\n",
       "    }\n",
       "\n",
       "    .dataframe thead th {\n",
       "        text-align: right;\n",
       "    }\n",
       "</style>\n",
       "<table border=\"1\" class=\"dataframe\">\n",
       "  <thead>\n",
       "    <tr style=\"text-align: right;\">\n",
       "      <th></th>\n",
       "      <th>Municipio</th>\n",
       "    </tr>\n",
       "  </thead>\n",
       "  <tbody>\n",
       "    <tr>\n",
       "      <td>0</td>\n",
       "      <td>Abasolo</td>\n",
       "    </tr>\n",
       "    <tr>\n",
       "      <td>1</td>\n",
       "      <td>Abasolo</td>\n",
       "    </tr>\n",
       "    <tr>\n",
       "      <td>2</td>\n",
       "      <td>Abasolo</td>\n",
       "    </tr>\n",
       "    <tr>\n",
       "      <td>3</td>\n",
       "      <td>Abasolo</td>\n",
       "    </tr>\n",
       "    <tr>\n",
       "      <td>4</td>\n",
       "      <td>Abasolo</td>\n",
       "    </tr>\n",
       "    <tr>\n",
       "      <td>...</td>\n",
       "      <td>...</td>\n",
       "    </tr>\n",
       "    <tr>\n",
       "      <td>3136</td>\n",
       "      <td>León</td>\n",
       "    </tr>\n",
       "    <tr>\n",
       "      <td>3137</td>\n",
       "      <td>León</td>\n",
       "    </tr>\n",
       "    <tr>\n",
       "      <td>3138</td>\n",
       "      <td>León</td>\n",
       "    </tr>\n",
       "    <tr>\n",
       "      <td>3139</td>\n",
       "      <td>León</td>\n",
       "    </tr>\n",
       "    <tr>\n",
       "      <td>3140</td>\n",
       "      <td>León</td>\n",
       "    </tr>\n",
       "  </tbody>\n",
       "</table>\n",
       "<p>3141 rows × 1 columns</p>\n",
       "</div>"
      ],
      "text/plain": [
       "     Municipio\n",
       "0      Abasolo\n",
       "1      Abasolo\n",
       "2      Abasolo\n",
       "3      Abasolo\n",
       "4      Abasolo\n",
       "...        ...\n",
       "3136      León\n",
       "3137      León\n",
       "3138      León\n",
       "3139      León\n",
       "3140      León\n",
       "\n",
       "[3141 rows x 1 columns]"
      ]
     },
     "execution_count": 51,
     "metadata": {},
     "output_type": "execute_result"
    }
   ],
   "source": [
    "municipio = dataframe[[ 'Municipio' ]]\n",
    "municipio"
   ]
  },
  {
   "cell_type": "markdown",
   "metadata": {},
   "source": [
    "De aquí podemos observar que la extracción de objetos conserva la estructura de la misma tabla de datos, por lo que para transofrmar los valores a formato de lista, utilizamos el atributo `.values`.\n",
    "\n",
    "Una vez transformado en lista podemos utilizar indexación como vimos previamente."
   ]
  },
  {
   "cell_type": "code",
   "execution_count": 53,
   "metadata": {},
   "outputs": [
    {
     "data": {
      "text/plain": [
       "array([['Abasolo'],\n",
       "       ['Abasolo'],\n",
       "       ['Abasolo'],\n",
       "       ...,\n",
       "       ['León'],\n",
       "       ['León'],\n",
       "       ['León']], dtype=object)"
      ]
     },
     "execution_count": 53,
     "metadata": {},
     "output_type": "execute_result"
    }
   ],
   "source": [
    "municipio.values"
   ]
  },
  {
   "cell_type": "markdown",
   "metadata": {},
   "source": [
    "Puedes filtrar datos utilizando condicionales dentro de los corchetes de selección. \n",
    "\n",
    "#### Ejemplo:\n",
    "\n",
    "Si quisiéramos filtrar a las secciones que pertenezcan al municipio de Guanajuato, hacemos:"
   ]
  },
  {
   "cell_type": "code",
   "execution_count": 32,
   "metadata": {},
   "outputs": [
    {
     "data": {
      "text/html": [
       "<div>\n",
       "<style scoped>\n",
       "    .dataframe tbody tr th:only-of-type {\n",
       "        vertical-align: middle;\n",
       "    }\n",
       "\n",
       "    .dataframe tbody tr th {\n",
       "        vertical-align: top;\n",
       "    }\n",
       "\n",
       "    .dataframe thead th {\n",
       "        text-align: right;\n",
       "    }\n",
       "</style>\n",
       "<table border=\"1\" class=\"dataframe\">\n",
       "  <thead>\n",
       "    <tr style=\"text-align: right;\">\n",
       "      <th></th>\n",
       "      <th>Seccion</th>\n",
       "      <th>ClaveMPIO</th>\n",
       "      <th>Municipio</th>\n",
       "      <th>Distrito Local</th>\n",
       "      <th>Cabecera Distrital</th>\n",
       "    </tr>\n",
       "  </thead>\n",
       "  <tbody>\n",
       "    <tr>\n",
       "      <td>819</td>\n",
       "      <td>823</td>\n",
       "      <td>15</td>\n",
       "      <td>Guanajuato</td>\n",
       "      <td>8</td>\n",
       "      <td>Guanajuato</td>\n",
       "    </tr>\n",
       "    <tr>\n",
       "      <td>820</td>\n",
       "      <td>824</td>\n",
       "      <td>15</td>\n",
       "      <td>Guanajuato</td>\n",
       "      <td>8</td>\n",
       "      <td>Guanajuato</td>\n",
       "    </tr>\n",
       "    <tr>\n",
       "      <td>821</td>\n",
       "      <td>825</td>\n",
       "      <td>15</td>\n",
       "      <td>Guanajuato</td>\n",
       "      <td>8</td>\n",
       "      <td>Guanajuato</td>\n",
       "    </tr>\n",
       "    <tr>\n",
       "      <td>822</td>\n",
       "      <td>826</td>\n",
       "      <td>15</td>\n",
       "      <td>Guanajuato</td>\n",
       "      <td>8</td>\n",
       "      <td>Guanajuato</td>\n",
       "    </tr>\n",
       "    <tr>\n",
       "      <td>823</td>\n",
       "      <td>827</td>\n",
       "      <td>15</td>\n",
       "      <td>Guanajuato</td>\n",
       "      <td>8</td>\n",
       "      <td>Guanajuato</td>\n",
       "    </tr>\n",
       "    <tr>\n",
       "      <td>...</td>\n",
       "      <td>...</td>\n",
       "      <td>...</td>\n",
       "      <td>...</td>\n",
       "      <td>...</td>\n",
       "      <td>...</td>\n",
       "    </tr>\n",
       "    <tr>\n",
       "      <td>907</td>\n",
       "      <td>911</td>\n",
       "      <td>15</td>\n",
       "      <td>Guanajuato</td>\n",
       "      <td>8</td>\n",
       "      <td>Guanajuato</td>\n",
       "    </tr>\n",
       "    <tr>\n",
       "      <td>908</td>\n",
       "      <td>912</td>\n",
       "      <td>15</td>\n",
       "      <td>Guanajuato</td>\n",
       "      <td>8</td>\n",
       "      <td>Guanajuato</td>\n",
       "    </tr>\n",
       "    <tr>\n",
       "      <td>909</td>\n",
       "      <td>913</td>\n",
       "      <td>15</td>\n",
       "      <td>Guanajuato</td>\n",
       "      <td>8</td>\n",
       "      <td>Guanajuato</td>\n",
       "    </tr>\n",
       "    <tr>\n",
       "      <td>910</td>\n",
       "      <td>914</td>\n",
       "      <td>15</td>\n",
       "      <td>Guanajuato</td>\n",
       "      <td>8</td>\n",
       "      <td>Guanajuato</td>\n",
       "    </tr>\n",
       "    <tr>\n",
       "      <td>911</td>\n",
       "      <td>915</td>\n",
       "      <td>15</td>\n",
       "      <td>Guanajuato</td>\n",
       "      <td>8</td>\n",
       "      <td>Guanajuato</td>\n",
       "    </tr>\n",
       "  </tbody>\n",
       "</table>\n",
       "<p>93 rows × 5 columns</p>\n",
       "</div>"
      ],
      "text/plain": [
       "     Seccion  ClaveMPIO   Municipio  Distrito Local Cabecera Distrital\n",
       "819      823         15  Guanajuato               8         Guanajuato\n",
       "820      824         15  Guanajuato               8         Guanajuato\n",
       "821      825         15  Guanajuato               8         Guanajuato\n",
       "822      826         15  Guanajuato               8         Guanajuato\n",
       "823      827         15  Guanajuato               8         Guanajuato\n",
       "..       ...        ...         ...             ...                ...\n",
       "907      911         15  Guanajuato               8         Guanajuato\n",
       "908      912         15  Guanajuato               8         Guanajuato\n",
       "909      913         15  Guanajuato               8         Guanajuato\n",
       "910      914         15  Guanajuato               8         Guanajuato\n",
       "911      915         15  Guanajuato               8         Guanajuato\n",
       "\n",
       "[93 rows x 5 columns]"
      ]
     },
     "execution_count": 32,
     "metadata": {},
     "output_type": "execute_result"
    }
   ],
   "source": [
    "dataframe[dataframe['Municipio'] == 'Guanajuato']"
   ]
  },
  {
   "cell_type": "markdown",
   "metadata": {},
   "source": [
    "#### Ejercicio:\n",
    "\n",
    "Filtra elementos de acuerdo a al distrito, específicamente si es `'1'`."
   ]
  },
  {
   "cell_type": "code",
   "execution_count": 47,
   "metadata": {},
   "outputs": [
    {
     "data": {
      "text/html": [
       "<div>\n",
       "<style scoped>\n",
       "    .dataframe tbody tr th:only-of-type {\n",
       "        vertical-align: middle;\n",
       "    }\n",
       "\n",
       "    .dataframe tbody tr th {\n",
       "        vertical-align: top;\n",
       "    }\n",
       "\n",
       "    .dataframe thead th {\n",
       "        text-align: right;\n",
       "    }\n",
       "</style>\n",
       "<table border=\"1\" class=\"dataframe\">\n",
       "  <thead>\n",
       "    <tr style=\"text-align: right;\">\n",
       "      <th></th>\n",
       "      <th>Seccion</th>\n",
       "      <th>ClaveMPIO</th>\n",
       "      <th>Municipio</th>\n",
       "      <th>Distrito Local</th>\n",
       "      <th>Cabecera Distrital</th>\n",
       "    </tr>\n",
       "  </thead>\n",
       "  <tbody>\n",
       "    <tr>\n",
       "      <td>498</td>\n",
       "      <td>500</td>\n",
       "      <td>7</td>\n",
       "      <td>Celaya</td>\n",
       "      <td>16</td>\n",
       "      <td>Celaya</td>\n",
       "    </tr>\n",
       "    <tr>\n",
       "      <td>499</td>\n",
       "      <td>501</td>\n",
       "      <td>7</td>\n",
       "      <td>Celaya</td>\n",
       "      <td>16</td>\n",
       "      <td>Celaya</td>\n",
       "    </tr>\n",
       "    <tr>\n",
       "      <td>500</td>\n",
       "      <td>502</td>\n",
       "      <td>7</td>\n",
       "      <td>Celaya</td>\n",
       "      <td>16</td>\n",
       "      <td>Celaya</td>\n",
       "    </tr>\n",
       "    <tr>\n",
       "      <td>501</td>\n",
       "      <td>503</td>\n",
       "      <td>7</td>\n",
       "      <td>Celaya</td>\n",
       "      <td>16</td>\n",
       "      <td>Celaya</td>\n",
       "    </tr>\n",
       "    <tr>\n",
       "      <td>502</td>\n",
       "      <td>504</td>\n",
       "      <td>7</td>\n",
       "      <td>Celaya</td>\n",
       "      <td>16</td>\n",
       "      <td>Celaya</td>\n",
       "    </tr>\n",
       "    <tr>\n",
       "      <td>...</td>\n",
       "      <td>...</td>\n",
       "      <td>...</td>\n",
       "      <td>...</td>\n",
       "      <td>...</td>\n",
       "      <td>...</td>\n",
       "    </tr>\n",
       "    <tr>\n",
       "      <td>3136</td>\n",
       "      <td>3150</td>\n",
       "      <td>20</td>\n",
       "      <td>León</td>\n",
       "      <td>4</td>\n",
       "      <td>León</td>\n",
       "    </tr>\n",
       "    <tr>\n",
       "      <td>3137</td>\n",
       "      <td>3151</td>\n",
       "      <td>20</td>\n",
       "      <td>León</td>\n",
       "      <td>4</td>\n",
       "      <td>León</td>\n",
       "    </tr>\n",
       "    <tr>\n",
       "      <td>3138</td>\n",
       "      <td>3152</td>\n",
       "      <td>20</td>\n",
       "      <td>León</td>\n",
       "      <td>4</td>\n",
       "      <td>León</td>\n",
       "    </tr>\n",
       "    <tr>\n",
       "      <td>3139</td>\n",
       "      <td>3153</td>\n",
       "      <td>20</td>\n",
       "      <td>León</td>\n",
       "      <td>4</td>\n",
       "      <td>León</td>\n",
       "    </tr>\n",
       "    <tr>\n",
       "      <td>3140</td>\n",
       "      <td>3154</td>\n",
       "      <td>20</td>\n",
       "      <td>León</td>\n",
       "      <td>4</td>\n",
       "      <td>León</td>\n",
       "    </tr>\n",
       "  </tbody>\n",
       "</table>\n",
       "<p>2643 rows × 5 columns</p>\n",
       "</div>"
      ],
      "text/plain": [
       "      Seccion  ClaveMPIO Municipio  Distrito Local Cabecera Distrital\n",
       "498       500          7    Celaya              16             Celaya\n",
       "499       501          7    Celaya              16             Celaya\n",
       "500       502          7    Celaya              16             Celaya\n",
       "501       503          7    Celaya              16             Celaya\n",
       "502       504          7    Celaya              16             Celaya\n",
       "...       ...        ...       ...             ...                ...\n",
       "3136     3150         20      León               4               León\n",
       "3137     3151         20      León               4               León\n",
       "3138     3152         20      León               4               León\n",
       "3139     3153         20      León               4               León\n",
       "3140     3154         20      León               4               León\n",
       "\n",
       "[2643 rows x 5 columns]"
      ]
     },
     "execution_count": 47,
     "metadata": {},
     "output_type": "execute_result"
    }
   ],
   "source": [
    "# TODO.\n",
    "# Filtra elementos con la condición 'rural' que pertenezcan a la columna 'ZONA'\n"
   ]
  },
  {
   "cell_type": "markdown",
   "metadata": {},
   "source": [
    "## Estadísticos descriptivos\n",
    "\n",
    "De manera muy general, Pandas ya puede entregarnos un resumen estadístico descriptivo utilizando funciones como `.count()` o `.describe()`. \n",
    "\n",
    "Dichas descripciones contienen elementos estadísticos como la media, mímimos, máximos, [percentiles](https://es.wikipedia.org/wiki/Percentil) y [desviación estándar](https://es.wikipedia.org/wiki/Desviación_típica)."
   ]
  },
  {
   "cell_type": "code",
   "execution_count": 42,
   "metadata": {},
   "outputs": [
    {
     "data": {
      "text/plain": [
       "Seccion               3141\n",
       "ClaveMPIO             3141\n",
       "Municipio             3141\n",
       "Distrito Local        3141\n",
       "Cabecera Distrital    3141\n",
       "dtype: int64"
      ]
     },
     "execution_count": 42,
     "metadata": {},
     "output_type": "execute_result"
    }
   ],
   "source": [
    "dataframe.count()"
   ]
  },
  {
   "cell_type": "code",
   "execution_count": 66,
   "metadata": {},
   "outputs": [
    {
     "data": {
      "text/html": [
       "<div>\n",
       "<style scoped>\n",
       "    .dataframe tbody tr th:only-of-type {\n",
       "        vertical-align: middle;\n",
       "    }\n",
       "\n",
       "    .dataframe tbody tr th {\n",
       "        vertical-align: top;\n",
       "    }\n",
       "\n",
       "    .dataframe thead th {\n",
       "        text-align: right;\n",
       "    }\n",
       "</style>\n",
       "<table border=\"1\" class=\"dataframe\">\n",
       "  <thead>\n",
       "    <tr style=\"text-align: right;\">\n",
       "      <th></th>\n",
       "      <th>Seccion</th>\n",
       "      <th>ClaveMPIO</th>\n",
       "      <th>Distrito Local</th>\n",
       "    </tr>\n",
       "  </thead>\n",
       "  <tbody>\n",
       "    <tr>\n",
       "      <td>count</td>\n",
       "      <td>3141.000000</td>\n",
       "      <td>3141.000000</td>\n",
       "      <td>3141.000000</td>\n",
       "    </tr>\n",
       "    <tr>\n",
       "      <td>mean</td>\n",
       "      <td>1577.222222</td>\n",
       "      <td>20.342884</td>\n",
       "      <td>11.980261</td>\n",
       "    </tr>\n",
       "    <tr>\n",
       "      <td>std</td>\n",
       "      <td>911.064599</td>\n",
       "      <td>11.131892</td>\n",
       "      <td>6.444639</td>\n",
       "    </tr>\n",
       "    <tr>\n",
       "      <td>min</td>\n",
       "      <td>1.000000</td>\n",
       "      <td>1.000000</td>\n",
       "      <td>1.000000</td>\n",
       "    </tr>\n",
       "    <tr>\n",
       "      <td>25%</td>\n",
       "      <td>789.000000</td>\n",
       "      <td>14.000000</td>\n",
       "      <td>7.000000</td>\n",
       "    </tr>\n",
       "    <tr>\n",
       "      <td>50%</td>\n",
       "      <td>1578.000000</td>\n",
       "      <td>20.000000</td>\n",
       "      <td>12.000000</td>\n",
       "    </tr>\n",
       "    <tr>\n",
       "      <td>75%</td>\n",
       "      <td>2365.000000</td>\n",
       "      <td>27.000000</td>\n",
       "      <td>18.000000</td>\n",
       "    </tr>\n",
       "    <tr>\n",
       "      <td>max</td>\n",
       "      <td>3154.000000</td>\n",
       "      <td>46.000000</td>\n",
       "      <td>22.000000</td>\n",
       "    </tr>\n",
       "  </tbody>\n",
       "</table>\n",
       "</div>"
      ],
      "text/plain": [
       "           Seccion    ClaveMPIO  Distrito Local\n",
       "count  3141.000000  3141.000000     3141.000000\n",
       "mean   1577.222222    20.342884       11.980261\n",
       "std     911.064599    11.131892        6.444639\n",
       "min       1.000000     1.000000        1.000000\n",
       "25%     789.000000    14.000000        7.000000\n",
       "50%    1578.000000    20.000000       12.000000\n",
       "75%    2365.000000    27.000000       18.000000\n",
       "max    3154.000000    46.000000       22.000000"
      ]
     },
     "execution_count": 66,
     "metadata": {},
     "output_type": "execute_result"
    }
   ],
   "source": [
    "dataframe.describe()"
   ]
  },
  {
   "cell_type": "markdown",
   "metadata": {},
   "source": [
    "## Agrupando datos\n",
    "\n",
    "Leeremos el mismo excel cambiaremos los nombres de las cabeceras y agruparemos información relevante"
   ]
  },
  {
   "cell_type": "code",
   "execution_count": 186,
   "metadata": {},
   "outputs": [
    {
     "data": {
      "text/plain": [
       "distrito_local\n",
       "1     153\n",
       "2     158\n",
       "3      88\n",
       "4     115\n",
       "5      99\n",
       "6     126\n",
       "7     206\n",
       "8     128\n",
       "9     146\n",
       "10    148\n",
       "11    109\n",
       "12    140\n",
       "13    128\n",
       "14    154\n",
       "15    171\n",
       "16    111\n",
       "17    107\n",
       "18    185\n",
       "19    156\n",
       "20    212\n",
       "21     89\n",
       "22    212\n",
       "dtype: int64"
      ]
     },
     "execution_count": 186,
     "metadata": {},
     "output_type": "execute_result"
    }
   ],
   "source": [
    "## Cambiar el nombre de los headers\n",
    "otro_dataframe = pandas.read_excel('distritos-locales-electorales.xlsx', names=['seccion', 'clave', 'municipio', 'distrito_local', 'cabecera_distrital'])\n",
    "data = otro_dataframe.groupby(['distrito_local']).size()\n",
    "data"
   ]
  },
  {
   "cell_type": "markdown",
   "metadata": {},
   "source": [
    "## JSON DATA"
   ]
  },
  {
   "cell_type": "code",
   "execution_count": 190,
   "metadata": {},
   "outputs": [],
   "source": [
    "objeto_json = \"\"\"\n",
    "{\"name\": \"Wes\",\n",
    " \"places_lived\": [\"United States\", \"Spain\", \"Germany\"],\n",
    " \"pet\": null,\n",
    " \"siblings\": [{\"name\": \"Scott\", \"age\": 30, \"pets\": [\"Zeus\", \"Zuko\"]},\n",
    "              {\"name\": \"Katie\", \"age\": 38,\n",
    "               \"pets\": [\"Sixes\", \"Stache\", \"Cisco\"]}]\n",
    "}\n",
    "\"\"\""
   ]
  },
  {
   "cell_type": "code",
   "execution_count": 191,
   "metadata": {},
   "outputs": [
    {
     "data": {
      "text/plain": [
       "{'name': 'Wes',\n",
       " 'places_lived': ['United States', 'Spain', 'Germany'],\n",
       " 'pet': None,\n",
       " 'siblings': [{'name': 'Scott', 'age': 30, 'pets': ['Zeus', 'Zuko']},\n",
       "  {'name': 'Katie', 'age': 38, 'pets': ['Sixes', 'Stache', 'Cisco']}]}"
      ]
     },
     "execution_count": 191,
     "metadata": {},
     "output_type": "execute_result"
    }
   ],
   "source": [
    "import json\n",
    "result = json.loads(objeto_json)\n",
    "result"
   ]
  },
  {
   "cell_type": "code",
   "execution_count": 193,
   "metadata": {},
   "outputs": [
    {
     "data": {
      "text/html": [
       "<div>\n",
       "<style scoped>\n",
       "    .dataframe tbody tr th:only-of-type {\n",
       "        vertical-align: middle;\n",
       "    }\n",
       "\n",
       "    .dataframe tbody tr th {\n",
       "        vertical-align: top;\n",
       "    }\n",
       "\n",
       "    .dataframe thead th {\n",
       "        text-align: right;\n",
       "    }\n",
       "</style>\n",
       "<table border=\"1\" class=\"dataframe\">\n",
       "  <thead>\n",
       "    <tr style=\"text-align: right;\">\n",
       "      <th></th>\n",
       "      <th>name</th>\n",
       "      <th>age</th>\n",
       "    </tr>\n",
       "  </thead>\n",
       "  <tbody>\n",
       "    <tr>\n",
       "      <td>0</td>\n",
       "      <td>Scott</td>\n",
       "      <td>30</td>\n",
       "    </tr>\n",
       "    <tr>\n",
       "      <td>1</td>\n",
       "      <td>Katie</td>\n",
       "      <td>38</td>\n",
       "    </tr>\n",
       "  </tbody>\n",
       "</table>\n",
       "</div>"
      ],
      "text/plain": [
       "    name  age\n",
       "0  Scott   30\n",
       "1  Katie   38"
      ]
     },
     "execution_count": 193,
     "metadata": {},
     "output_type": "execute_result"
    }
   ],
   "source": [
    "asjson = json.dumps(result)\n",
    "siblings = pd.DataFrame(result['siblings'], columns=['name', 'age'])\n",
    "siblings"
   ]
  },
  {
   "cell_type": "markdown",
   "metadata": {},
   "source": [
    "## Interactuando con Web API's"
   ]
  },
  {
   "cell_type": "code",
   "execution_count": 202,
   "metadata": {},
   "outputs": [
    {
     "data": {
      "text/plain": [
       "<Response [200]>"
      ]
     },
     "execution_count": 202,
     "metadata": {},
     "output_type": "execute_result"
    }
   ],
   "source": [
    "import requests\n",
    "url = 'https://www.congresogto.gob.mx/leyes.json'\n",
    "resp = requests.get(url)\n",
    "resp"
   ]
  },
  {
   "cell_type": "markdown",
   "metadata": {},
   "source": [
    "## Visualizaciones básicas\n",
    "\n",
    "Otro paquete que resulta muy útil, para gráficos estadísticos descriptivos, es [Seaborn](https://seaborn.pydata.org)."
   ]
  },
  {
   "cell_type": "code",
   "execution_count": 194,
   "metadata": {},
   "outputs": [],
   "source": [
    "# Imports necesarios\n",
    "import seaborn as sns\n",
    "import matplotlib.pyplot as plt\n",
    "import numpy as np\n",
    "\n",
    "%matplotlib inline\n",
    "sns.set(style=\"darkgrid\")"
   ]
  },
  {
   "cell_type": "code",
   "execution_count": 198,
   "metadata": {},
   "outputs": [],
   "source": [
    "visualizacion_dataframe = pandas.read_excel('puntosconectividadleonjun2019.xlsx')"
   ]
  },
  {
   "cell_type": "code",
   "execution_count": 201,
   "metadata": {},
   "outputs": [
    {
     "data": {
      "text/plain": [
       "<matplotlib.axes._subplots.AxesSubplot at 0x150d45748>"
      ]
     },
     "execution_count": 201,
     "metadata": {},
     "output_type": "execute_result"
    },
    {
     "data": {
      "image/png": "[encoded data removed]",
      "text/plain": [
       "<Figure size 1080x1440 with 1 Axes>"
      ]
     },
     "metadata": {},
     "output_type": "display_data"
    }
   ],
   "source": [
    "plt.figure(figsize=(15, 20))\n",
    "sns.barplot(x=\"POBLACION\", y=\"PUNTO_DE_CONEXION\", data=visualizacion_dataframe,\n",
    "            label=\"No. de seccion por Distrito Local\", color=\"b\")"
   ]
  },
  {
   "cell_type": "markdown",
   "metadata": {},
   "source": [
    "Las visualizaciones y su utilidad dependen un poco de los datos, en este caso, valdría la pena explorar los datos utilizando mapas. 🗺👀"
   ]
  },
  {
   "cell_type": "markdown",
   "metadata": {},
   "source": [
    "Sin embargo, te comparto el siguiente material para que puedas conocer más visualizaciones que resultan útiles:\n",
    "- [La galería de gráficos de Seaborn](https://seaborn.pydata.org/examples/index.html)\n",
    "- [La galería de gráficos en Python](https://python-graph-gallery.com)"
   ]
  }
 ],
 "metadata": {
  "kernelspec": {
   "display_name": "Python 3",
   "language": "python",
   "name": "python3"
  },
  "language_info": {
   "codemirror_mode": {
    "name": "ipython",
    "version": 3
   },
   "file_extension": ".py",
   "mimetype": "text/x-python",
   "name": "python",
   "nbconvert_exporter": "python",
   "pygments_lexer": "ipython3",
   "version": "3.6.4"
  }
 },
 "nbformat": 4,
 "nbformat_minor": 4
}
